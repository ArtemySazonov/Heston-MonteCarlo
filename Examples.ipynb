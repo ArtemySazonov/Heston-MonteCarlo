{
 "cells": [
  {
   "attachments": {},
   "cell_type": "markdown",
   "metadata": {},
   "source": [
    "# Pricing the Exotics with the Heston Model\n",
    "\n",
    "Authors: Artemy Sazonov, Danil Legenkiy, and Kirill Korban\n",
    "\n",
    "Supervisors: Mikhail Zhitlukhin, Charles-Henri Roubinet\n",
    "\n",
    "Objectives:\n",
    "1. Implement the most common discretization schemes for the Heston model.\n",
    "2. Compare the performance of the schemes and compare them with the closed-form solution for the European call option;\n",
    "3. Test the exotic options pricing with the Heston model."
   ]
  },
  {
   "cell_type": "code",
   "execution_count": null,
   "metadata": {},
   "outputs": [],
   "source": [
    "import hestonmc as hmc"
   ]
  }
 ],
 "metadata": {
  "kernelspec": {
   "display_name": "Python 3",
   "language": "python",
   "name": "python3"
  },
  "language_info": {
   "codemirror_mode": {
    "name": "ipython",
    "version": 3
   },
   "file_extension": ".py",
   "mimetype": "text/x-python",
   "name": "python",
   "nbconvert_exporter": "python",
   "pygments_lexer": "ipython3",
   "version": "3.10.9"
  },
  "orig_nbformat": 4,
  "vscode": {
   "interpreter": {
    "hash": "b0fa6594d8f4cbf19f97940f81e996739fb7646882a419484c72d19e05852a7e"
   }
  }
 },
 "nbformat": 4,
 "nbformat_minor": 2
}
