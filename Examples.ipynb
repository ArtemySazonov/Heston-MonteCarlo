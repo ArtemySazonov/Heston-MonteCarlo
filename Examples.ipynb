{
 "cells": [
  {
   "attachments": {},
   "cell_type": "markdown",
   "metadata": {},
   "source": [
    "# Monte-Carlo Pricing with the Heston Model\n",
    "\n",
    "Authors: Artemy Sazonov, Danil Legenkiy, and Kirill Korban\n",
    "\n",
    "Supervisors: Mikhail Zhitlukhin, Charles-Henri Roubinet\n",
    "\n",
    "Objectives:\n",
    "1. Implement the most common discretization schemes for the Heston model.\n",
    "2. Compare the performance of the schemes and compare them with the closed-form solution for the European call option;\n",
    "3. Test the exotic options pricing with the Heston model."
   ]
  },
  {
   "cell_type": "code",
   "execution_count": 2,
   "metadata": {},
   "outputs": [],
   "source": [
    "from hestonmc import *\n",
    "from derivatives import *\n",
    "from vol.vol import Heston\n",
    "\n",
    "import numpy as np"
   ]
  },
  {
   "cell_type": "code",
   "execution_count": 3,
   "metadata": {},
   "outputs": [],
   "source": [
    "heston_params = HestonParameters(kappa = 0.5, gamma = 1, rho = -0.9, vbar = 0.04, v0 = 0.04)\n",
    "\n",
    "state         = MarketState(stock_price = 100, interest_rate = 0.)\n",
    "model         = Heston(state.stock_price, heston_params.v0, heston_params.kappa, heston_params.vbar, heston_params.gamma, heston_params.rho, state.interest_rate)\n",
    "\n",
    "r_x           = np.load(r\"Data/truncated_gaussian/r_x start=1e-07 stop=100 N=4999998 dt=2e-05.npy\")\n",
    "f_nu_y        = np.load(r\"Data/truncated_gaussian/f_nu_y start=1e-07 stop=100 N=4999998 dt=2e-05.npy\")\n",
    "f_sigma_y     = np.load(r\"Data/truncated_gaussian/f_sigma_y start=1e-07 stop=100 N=4999998 dt=2e-05.npy\")\n",
    "\n",
    "kwargs        = {\n",
    "                    'x_grid' : r_x, \n",
    "                    'f_nu_grid' : f_nu_y, \n",
    "                    'f_sigma_grid' : f_sigma_y \n",
    "                }"
   ]
  },
  {
   "attachments": {},
   "cell_type": "markdown",
   "metadata": {},
   "source": [
    "## Comparison of the discretization schemes and the closed-form solution"
   ]
  },
  {
   "attachments": {},
   "cell_type": "markdown",
   "metadata": {},
   "source": [
    "### At-the-money European call option"
   ]
  },
  {
   "cell_type": "code",
   "execution_count": 4,
   "metadata": {},
   "outputs": [],
   "source": [
    "strike = state.stock_price\n",
    "T = 1\n",
    "ec_payoff = european_call_payoff(T, strike, state.interest_rate)\n",
    "\n",
    "common_mc_params = {\"absolute_error\": 1e-2, \"state\": state, \"heston_params\": heston_params, \"payoff\": ec_payoff, \"T\": T}"
   ]
  },
  {
   "attachments": {},
   "cell_type": "markdown",
   "metadata": {},
   "source": [
    "#### Closed-form price"
   ]
  },
  {
   "cell_type": "code",
   "execution_count": 5,
   "metadata": {},
   "outputs": [
    {
     "data": {
      "text/plain": [
       "4.40338420430231"
      ]
     },
     "execution_count": 5,
     "metadata": {},
     "output_type": "execute_result"
    }
   ],
   "source": [
    "model.call_price(T, strike)"
   ]
  },
  {
   "attachments": {},
   "cell_type": "markdown",
   "metadata": {},
   "source": [
    "#### Euler scheme"
   ]
  },
  {
   "cell_type": "code",
   "execution_count": 14,
   "metadata": {},
   "outputs": [
    {
     "name": "stdout",
     "output_type": "stream",
     "text": [
      "Number of simulate calls:   80\n",
      "MAX_ITER:                   100000\n",
      "Number of paths:            3200000\n",
      "Absolute error:             0.01\n",
      "Length of the conf intl:    0.009950413572929773\n",
      "Confidence level:           0.05\n",
      "\n"
     ]
    },
    {
     "data": {
      "text/plain": [
       "4.7906063174725215"
      ]
     },
     "execution_count": 14,
     "metadata": {},
     "output_type": "execute_result"
    }
   ],
   "source": [
    "mc_price(N_T = 40, simulate = simulate_heston_euler, batch_size = 10_000, verbose = True, **common_mc_params)"
   ]
  },
  {
   "cell_type": "code",
   "execution_count": 18,
   "metadata": {},
   "outputs": [
    {
     "name": "stdout",
     "output_type": "stream",
     "text": [
      "Number of simulate calls:   68\n",
      "MAX_ITER:                   100000\n",
      "Number of paths:            2720000\n",
      "Absolute error:             0.01\n",
      "Length of the conf intl:    0.009928552532378562\n",
      "Confidence level:           0.05\n",
      "\n"
     ]
    },
    {
     "data": {
      "text/plain": [
       "4.458799582002607"
      ]
     },
     "execution_count": 18,
     "metadata": {},
     "output_type": "execute_result"
    }
   ],
   "source": [
    "mc_price(N_T = 200, simulate = simulate_heston_euler, batch_size = 10_000, verbose = True, **common_mc_params)"
   ]
  },
  {
   "cell_type": "code",
   "execution_count": 30,
   "metadata": {},
   "outputs": [
    {
     "name": "stdout",
     "output_type": "stream",
     "text": [
      "Number of simulate calls:   63\n",
      "MAX_ITER:                   100000\n",
      "Number of paths:            2520000\n",
      "Absolute error:             0.01\n",
      "Length of the conf intl:    0.009969524260968783\n",
      "Confidence level:           0.05\n",
      "\n"
     ]
    },
    {
     "data": {
      "text/plain": [
       "4.390740187286735"
      ]
     },
     "execution_count": 30,
     "metadata": {},
     "output_type": "execute_result"
    }
   ],
   "source": [
    "mc_price(N_T = 40, simulate = simulate_heston_andersen_qe, batch_size = 10_000, verbose = True, **common_mc_params)"
   ]
  },
  {
   "attachments": {},
   "cell_type": "markdown",
   "metadata": {},
   "source": [
    "As we can see, the Euler scheme requires a lot more points to achieve the same accuracy as the Andersen schemes."
   ]
  },
  {
   "attachments": {},
   "cell_type": "markdown",
   "metadata": {},
   "source": [
    "#### Andersen schemes"
   ]
  },
  {
   "cell_type": "code",
   "execution_count": 28,
   "metadata": {},
   "outputs": [
    {
     "name": "stdout",
     "output_type": "stream",
     "text": [
      "Number of simulate calls:   64\n",
      "MAX_ITER:                   100000\n",
      "Number of paths:            2560000\n",
      "Absolute error:             0.01\n",
      "Length of the conf intl:    0.009996494292748669\n",
      "Confidence level:           0.05\n",
      "\n"
     ]
    },
    {
     "data": {
      "text/plain": [
       "4.395463982322609"
      ]
     },
     "execution_count": 28,
     "metadata": {},
     "output_type": "execute_result"
    }
   ],
   "source": [
    "mc_price(N_T = 40, simulate = simulate_heston_andersen_tg, batch_size = 10_000, verbose = True, **common_mc_params, **kwargs)"
   ]
  },
  {
   "attachments": {},
   "cell_type": "markdown",
   "metadata": {},
   "source": [
    "#### Speed comparison"
   ]
  },
  {
   "cell_type": "code",
   "execution_count": 19,
   "metadata": {},
   "outputs": [
    {
     "name": "stdout",
     "output_type": "stream",
     "text": [
      "1.9 s ± 14.6 ms per loop (mean ± std. dev. of 7 runs, 1 loop each)\n"
     ]
    }
   ],
   "source": [
    "%timeit mc_price(N_T = 200, simulate = simulate_heston_euler, batch_size = 10_000, **common_mc_params)"
   ]
  },
  {
   "cell_type": "code",
   "execution_count": 24,
   "metadata": {},
   "outputs": [
    {
     "name": "stdout",
     "output_type": "stream",
     "text": [
      "578 ms ± 4.23 ms per loop (mean ± std. dev. of 7 runs, 1 loop each)\n"
     ]
    }
   ],
   "source": [
    "%timeit mc_price(N_T = 40, simulate = simulate_heston_andersen_qe, batch_size = 10_000, **common_mc_params)"
   ]
  },
  {
   "cell_type": "code",
   "execution_count": 22,
   "metadata": {},
   "outputs": [
    {
     "name": "stdout",
     "output_type": "stream",
     "text": [
      "511 ms ± 7.46 ms per loop (mean ± std. dev. of 7 runs, 1 loop each)\n"
     ]
    }
   ],
   "source": [
    "%timeit mc_price(N_T = 40, simulate = simulate_heston_andersen_tg, batch_size = 10_000, **common_mc_params, **kwargs)"
   ]
  },
  {
   "attachments": {},
   "cell_type": "markdown",
   "metadata": {},
   "source": [
    "## Exotic options pricing\n",
    "\n",
    "Here we provide a basic example of the Asian Call option pricing (arithmetic mean) with and without the control variate."
   ]
  },
  {
   "cell_type": "code",
   "execution_count": 18,
   "metadata": {},
   "outputs": [],
   "source": [
    "asian_call = asian_call_AM_payoff(T, state.stock_price)\n",
    "asian_mc_params = {\"N_T\": 50, \"simulate\": simulate_heston_andersen_qe, \"batch_size\": 20_000, \"absolute_error\": 1e-3, \"state\": state, \"heston_params\": heston_params, \"payoff\": asian_call, \"T\": T}"
   ]
  },
  {
   "cell_type": "code",
   "execution_count": 19,
   "metadata": {},
   "outputs": [
    {
     "name": "stdout",
     "output_type": "stream",
     "text": [
      "Number of simulate calls:   1417\n",
      "MAX_ITER:                   100000\n",
      "Number of paths:            113360000\n",
      "Absolute error:             0.001\n",
      "Length of the conf intl:    0.0009996823381729775\n",
      "Confidence level:           0.05\n",
      "\n"
     ]
    },
    {
     "data": {
      "text/plain": [
       "3.095672658360093"
      ]
     },
     "execution_count": 19,
     "metadata": {},
     "output_type": "execute_result"
    }
   ],
   "source": [
    "mc_price(**asian_mc_params, verbose = True)"
   ]
  },
  {
   "cell_type": "code",
   "execution_count": 20,
   "metadata": {},
   "outputs": [
    {
     "name": "stdout",
     "output_type": "stream",
     "text": [
      "Control variate payoff:     european_call\n",
      "Control variate iterations: 1000\n",
      "Number of simulate calls:   445\n",
      "MAX_ITER:                   100000\n",
      "Number of paths:            35600000\n",
      "Absolute error:             0.001\n",
      "Length of the conf intl:    0.0009991528466140344\n",
      "Confidence level:           0.05\n",
      "\n"
     ]
    },
    {
     "data": {
      "text/plain": [
       "3.1014962948789946"
      ]
     },
     "execution_count": 20,
     "metadata": {},
     "output_type": "execute_result"
    }
   ],
   "source": [
    "mc_price(**asian_mc_params, control_variate_payoff=ec_payoff, mu = model.call_price(T, strike), verbose = True)"
   ]
  },
  {
   "cell_type": "code",
   "execution_count": 21,
   "metadata": {},
   "outputs": [
    {
     "name": "stdout",
     "output_type": "stream",
     "text": [
      "45.5 s ± 144 ms per loop (mean ± std. dev. of 3 runs, 1 loop each)\n"
     ]
    }
   ],
   "source": [
    "%timeit -r3 mc_price(**asian_mc_params)"
   ]
  },
  {
   "cell_type": "code",
   "execution_count": 22,
   "metadata": {},
   "outputs": [
    {
     "name": "stdout",
     "output_type": "stream",
     "text": [
      "14.4 s ± 57.6 ms per loop (mean ± std. dev. of 3 runs, 1 loop each)\n"
     ]
    }
   ],
   "source": [
    "%timeit -r3 mc_price(**asian_mc_params, control_variate_payoff=ec_payoff, mu = model.call_price(T, strike))"
   ]
  }
 ],
 "metadata": {
  "kernelspec": {
   "display_name": "Python 3",
   "language": "python",
   "name": "python3"
  },
  "language_info": {
   "codemirror_mode": {
    "name": "ipython",
    "version": 3
   },
   "file_extension": ".py",
   "mimetype": "text/x-python",
   "name": "python",
   "nbconvert_exporter": "python",
   "pygments_lexer": "ipython3",
   "version": "3.9.6"
  },
  "orig_nbformat": 4,
  "vscode": {
   "interpreter": {
    "hash": "31f2aee4e71d21fbe5cf8b01ff0e069b9275f58929596ceb00d14d90e3e16cd6"
   }
  }
 },
 "nbformat": 4,
 "nbformat_minor": 2
}
